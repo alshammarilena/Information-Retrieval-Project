{
 "cells": [
  {
   "cell_type": "markdown",
   "id": "b18c5279-8ee6-4d91-af76-d77155d7a706",
   "metadata": {},
   "source": [
    "***Information Retrieval Project***"
   ]
  },
  {
   "cell_type": "raw",
   "id": "462f9f41-e37a-47a6-8874-5d47673eb54a",
   "metadata": {},
   "source": [
    "In our business category, we expect the TF-IDF model to effectively highlight the importance of key terms related to financial policies and sustainable development. This model will help us identify relevant documents that align closely with our specific interests and needs.\n",
    "Our corpus consists of four documents, each containing insights relevant to economic policies and practices:\n",
    "\n",
    "Document 1: Discusses recent developments in indirect tax and service tax rates in Malaysia.\n",
    "Document 2: Provides an overview of Malaysia's economic outlook and trade transactions.\n",
    "Document 3: Covers Citigroup's bond underwriting for fossil fuel companies and its implications amid climate protests.\n",
    "Document 4: Outlines budget principles focused on sustainable development and innovation in Malaysia.\n",
    "\n",
    "The query we are examining is: \"Budget principles for sustainable development Malaysia.\" This query is particularly relevant to our corpus, as it directly aligns with the themes present in Document 4, which addresses budgetary frameworks and sustainability. By preprocessing the documents and calculating their TF-IDF values, we will be able to assess the relevance of each document to our query using cosine similarity scores. This approach will facilitate efficient document retrieval based on our specific search criteria."
   ]
  },
  {
   "cell_type": "markdown",
   "id": "1a6efc5c-b6c3-4c6e-93ca-574f73e35085",
   "metadata": {},
   "source": [
    "**1- Import Necessary Libraries**"
   ]
  },
  {
   "cell_type": "code",
   "execution_count": 2,
   "id": "a66b5479-4a22-4f18-8a2d-7e95d7cf5722",
   "metadata": {},
   "outputs": [
    {
     "name": "stdout",
     "output_type": "stream",
     "text": [
      "Defaulting to user installation because normal site-packages is not writeable\n",
      "Requirement already satisfied: pandas in c:\\programdata\\anaconda3\\lib\\site-packages (2.1.4)\n",
      "Requirement already satisfied: scikit-learn in c:\\programdata\\anaconda3\\lib\\site-packages (1.2.2)\n",
      "Requirement already satisfied: nltk in c:\\programdata\\anaconda3\\lib\\site-packages (3.8.1)\n",
      "Requirement already satisfied: numpy<2,>=1.23.2 in c:\\programdata\\anaconda3\\lib\\site-packages (from pandas) (1.26.4)\n",
      "Requirement already satisfied: python-dateutil>=2.8.2 in c:\\programdata\\anaconda3\\lib\\site-packages (from pandas) (2.8.2)\n",
      "Requirement already satisfied: pytz>=2020.1 in c:\\programdata\\anaconda3\\lib\\site-packages (from pandas) (2023.3.post1)\n",
      "Requirement already satisfied: tzdata>=2022.1 in c:\\programdata\\anaconda3\\lib\\site-packages (from pandas) (2023.3)\n",
      "Requirement already satisfied: scipy>=1.3.2 in c:\\programdata\\anaconda3\\lib\\site-packages (from scikit-learn) (1.11.4)\n",
      "Requirement already satisfied: joblib>=1.1.1 in c:\\users\\lenovo\\appdata\\roaming\\python\\python311\\site-packages (from scikit-learn) (1.1.1)\n",
      "Requirement already satisfied: threadpoolctl>=2.0.0 in c:\\programdata\\anaconda3\\lib\\site-packages (from scikit-learn) (2.2.0)\n",
      "Requirement already satisfied: click in c:\\programdata\\anaconda3\\lib\\site-packages (from nltk) (8.1.7)\n",
      "Requirement already satisfied: regex>=2021.8.3 in c:\\programdata\\anaconda3\\lib\\site-packages (from nltk) (2023.10.3)\n",
      "Requirement already satisfied: tqdm in c:\\programdata\\anaconda3\\lib\\site-packages (from nltk) (4.65.0)\n",
      "Requirement already satisfied: six>=1.5 in c:\\programdata\\anaconda3\\lib\\site-packages (from python-dateutil>=2.8.2->pandas) (1.16.0)\n",
      "Requirement already satisfied: colorama in c:\\programdata\\anaconda3\\lib\\site-packages (from click->nltk) (0.4.6)\n"
     ]
    },
    {
     "name": "stderr",
     "output_type": "stream",
     "text": [
      "[nltk_data] Downloading package stopwords to\n",
      "[nltk_data]     C:\\Users\\Lenovo\\AppData\\Roaming\\nltk_data...\n",
      "[nltk_data]   Package stopwords is already up-to-date!\n"
     ]
    },
    {
     "data": {
      "text/plain": [
       "True"
      ]
     },
     "execution_count": 2,
     "metadata": {},
     "output_type": "execute_result"
    }
   ],
   "source": [
    "import pandas as pd\n",
    "import re\n",
    "from nltk.corpus import stopwords\n",
    "from nltk.stem import PorterStemmer\n",
    "import nltk\n",
    "from sklearn.feature_extraction.text import TfidfVectorizer\n",
    "from sklearn.metrics.pairwise import cosine_similarity\n",
    "from collections import defaultdict\n",
    "# Install necessary packages\n",
    "!pip install pandas scikit-learn nltk\n",
    "# Download the NLTK stopwords\n",
    "nltk.download('stopwords')"
   ]
  },
  {
   "cell_type": "markdown",
   "id": "19029b4f-ff8f-4c02-a07e-37510bcf1633",
   "metadata": {},
   "source": [
    "**2- Load the dataset**"
   ]
  },
  {
   "cell_type": "code",
   "execution_count": 3,
   "id": "5713bfe0-6f13-442f-b7a5-69a93429026b",
   "metadata": {},
   "outputs": [
    {
     "name": "stdout",
     "output_type": "stream",
     "text": [
      "Dataset Preview:\n",
      "                                                text  category\n",
      "0  THIS year has seen significant developments in...  Business\n",
      "1  PETALING JAYA: Economists are shading their op...  Business\n",
      "2  PETALING JAYA: Money tied up in the initial pu...  Business\n",
      "3  WASHINGTON: The U.S. central bank on Wednesday...  Business\n",
      "4  NEW YORK: Citigroup Inc is stepping up its dea...  Business\n",
      "5  THE United States shipped a record 6.1 million...  Business\n",
      "6  BUDGET 2023 laid the groundwork for the princi...  Business\n",
      "7  PETALING JAYA: Software development firm Web B...  Business\n",
      "8  PETALING JAYA: While narrowing yield different...  Business\n",
      "9  AN income tax system is based on the willingne...  Business\n"
     ]
    }
   ],
   "source": [
    "df = pd.read_csv('news_dataset(3).csv')\n",
    "\n",
    "print(\"Dataset Preview:\")\n",
    "print(df.head(10))"
   ]
  },
  {
   "cell_type": "markdown",
   "id": "0b9596ea-af8d-4ab2-bbba-25994c291e4c",
   "metadata": {},
   "source": [
    "**3- Create the Corpus**"
   ]
  },
  {
   "cell_type": "code",
   "execution_count": 4,
   "id": "3abbf31d-ffce-4757-9160-3cc54dcfec25",
   "metadata": {},
   "outputs": [
    {
     "name": "stdout",
     "output_type": "stream",
     "text": [
      "\n",
      "Selected Documents:\n",
      "Document 1: THIS year has seen significant developments in indirect tax, with key changes such as the sales tax on low-value goods (LVG), the increase in the service tax rate from 6% to 8%, an expanded scope of taxable services and a new excise duty on pre-mixed preparations.\n",
      "\n",
      "Document 2: PETALING JAYA: Economists are shading their optimism with a sense of prudence over the outlook for Malaysia’s external trade although August numbers again showed the country’s international transactions continue to grow.\n",
      "\n",
      "Document 3: NEW YORK: Citigroup Inc is stepping up its dealmaking in the underwriting of bonds for fossil-fuel companies, a development that coincides with intense climate protests outside its Manhattan office.\n",
      "\n",
      "Document 4: BUDGET 2023 laid the groundwork for the principles of Madani, focusing on sustainability, prosperity, innovation, trust, and compassion.\n",
      "\n"
     ]
    }
   ],
   "source": [
    "documents = [\n",
    "    \"THIS year has seen significant developments in indirect tax, with key changes such as the sales tax on low-value goods (LVG), the increase in the service tax rate from 6% to 8%, an expanded scope of taxable services and a new excise duty on pre-mixed preparations.\",\n",
    "    \"PETALING JAYA: Economists are shading their optimism with a sense of prudence over the outlook for Malaysia’s external trade although August numbers again showed the country’s international transactions continue to grow.\",\n",
    "    \"NEW YORK: Citigroup Inc is stepping up its dealmaking in the underwriting of bonds for fossil-fuel companies, a development that coincides with intense climate protests outside its Manhattan office.\",\n",
    "    \"BUDGET 2023 laid the groundwork for the principles of Madani, focusing on sustainability, prosperity, innovation, trust, and compassion.\"\n",
    "]\n",
    "\n",
    "# Display the selected documents\n",
    "print(\"\\nSelected Documents:\")\n",
    "for i, doc in enumerate(documents):\n",
    "    print(f\"Document {i + 1}: {doc}\\n\")\n",
    "\n",
    "# this code preprocesses a collection of text documents by converting them to lowercase,\n",
    "# removing punctuation, filtering out common stop words, and applying stemming.\n",
    "# The result is a cleaner, normalized version of each document"
   ]
  },
  {
   "cell_type": "markdown",
   "id": "af452cc8-55ed-4f2e-9df3-337952870153",
   "metadata": {},
   "source": [
    "**4- Data Preprocessing**"
   ]
  },
  {
   "cell_type": "code",
   "execution_count": 5,
   "id": "b6c9cfe9-c2e2-4222-af2c-ea33e79b781d",
   "metadata": {},
   "outputs": [
    {
     "name": "stdout",
     "output_type": "stream",
     "text": [
      "\n",
      "Cleaned Documents:\n",
      "Document 1: year seen signific develop indirect tax key chang sale tax lowvalu good lvg increas servic tax rate expand scope taxabl servic new excis duti premix prepar\n",
      "\n",
      "Document 2: petal jaya economist shade optim sens prudenc outlook malaysia extern trade although august number show countri intern transact continu grow\n",
      "\n",
      "Document 3: new york citigroup inc step dealmak underwrit bond fossilfuel compani develop coincid intens climat protest outsid manhattan offic\n",
      "\n",
      "Document 4: budget laid groundwork principl madani focus sustain prosper innov trust compass\n",
      "\n"
     ]
    }
   ],
   "source": [
    "# Initialize the stop words and stemmer\n",
    "stop_words = set(stopwords.words('english'))\n",
    "stemmer = PorterStemmer()\n",
    "\n",
    "def preprocess_text(text):\n",
    "    text = text.lower()  # Convert to lowercase\n",
    "    text = re.sub(r'[^a-z\\s]', '', text)  # Remove punctuation\n",
    "    words = text.split()\n",
    "    words = [stemmer.stem(word) for word in words if word not in stop_words]  # Remove stop words and stem\n",
    "    return ' '.join(words)\n",
    "\n",
    "# Preprocess the documents\n",
    "cleaned_documents = [preprocess_text(doc) for doc in documents]\n",
    "\n",
    "# Display cleaned documents\n",
    "print(\"\\nCleaned Documents:\")\n",
    "for i, doc in enumerate(cleaned_documents):\n",
    "    print(f\"Document {i + 1}: {doc}\\n\")\n",
    "    \n",
    "# This code calculates and displays term frequencies (TF) and TF-IDF values for a set of documents. \n",
    "# It begins by defining a function to compute term frequency for each document,normalizing the count of each word by the total word count in the document. \n",
    "# Next, it applies this function to all documents and prints the term frequencies per document.\n",
    "# After calculating TF, it uses Tfidf Vectorizer to compute the TF-IDF matrix, transforming the documents into a numerical\n",
    "# representation based on term frequency and inverse document frequency.\n",
    "# The resulting matrix is then displayed as a DataFrame, with terms as columns and documents as rows, showing each term’s TF-IDF score for each document.\n",
    "# This approach highlights the importance of terms within each document and across the entire document set, aiding in information retrieval and analysis."
   ]
  },
  {
   "cell_type": "markdown",
   "id": "1b0b9c9c-43c5-48f6-b2a8-5b8d3edae832",
   "metadata": {},
   "source": [
    "**5- Calculate TF-IDF madel**"
   ]
  },
  {
   "cell_type": "code",
   "execution_count": 6,
   "id": "2eb4aff2-4471-491c-a559-1066be7a1e9e",
   "metadata": {},
   "outputs": [
    {
     "name": "stdout",
     "output_type": "stream",
     "text": [
      "\n",
      "Term Frequencies:\n",
      "\n",
      "Document 1:\n",
      "  y: 0.0129\n",
      "  e: 0.1161\n",
      "  a: 0.0839\n",
      "  r: 0.0581\n",
      "   : 0.1613\n",
      "  s: 0.0516\n",
      "  n: 0.0452\n",
      "  i: 0.0710\n",
      "  g: 0.0258\n",
      "  f: 0.0065\n",
      "  c: 0.0516\n",
      "  d: 0.0323\n",
      "  v: 0.0323\n",
      "  l: 0.0387\n",
      "  o: 0.0323\n",
      "  p: 0.0387\n",
      "  t: 0.0452\n",
      "  x: 0.0452\n",
      "  k: 0.0065\n",
      "  h: 0.0065\n",
      "  w: 0.0129\n",
      "  u: 0.0129\n",
      "  b: 0.0065\n",
      "  m: 0.0065\n",
      "\n",
      "Document 2:\n",
      "  p: 0.0214\n",
      "  e: 0.0714\n",
      "  t: 0.0929\n",
      "  a: 0.0857\n",
      "  l: 0.0286\n",
      "   : 0.1357\n",
      "  j: 0.0071\n",
      "  y: 0.0143\n",
      "  c: 0.0357\n",
      "  o: 0.0786\n",
      "  n: 0.0786\n",
      "  m: 0.0286\n",
      "  i: 0.0429\n",
      "  s: 0.0571\n",
      "  h: 0.0286\n",
      "  d: 0.0214\n",
      "  r: 0.0571\n",
      "  u: 0.0571\n",
      "  k: 0.0071\n",
      "  x: 0.0071\n",
      "  g: 0.0214\n",
      "  b: 0.0071\n",
      "  w: 0.0143\n",
      "\n",
      "Document 3:\n",
      "  n: 0.0769\n",
      "  e: 0.0692\n",
      "  w: 0.0154\n",
      "   : 0.1308\n",
      "  y: 0.0077\n",
      "  o: 0.0769\n",
      "  r: 0.0385\n",
      "  k: 0.0154\n",
      "  c: 0.0538\n",
      "  i: 0.0923\n",
      "  t: 0.0769\n",
      "  g: 0.0077\n",
      "  u: 0.0308\n",
      "  p: 0.0385\n",
      "  s: 0.0462\n",
      "  d: 0.0462\n",
      "  a: 0.0538\n",
      "  l: 0.0385\n",
      "  m: 0.0308\n",
      "  b: 0.0077\n",
      "  f: 0.0308\n",
      "  v: 0.0077\n",
      "  h: 0.0077\n",
      "\n",
      "Document 4:\n",
      "  b: 0.0125\n",
      "  u: 0.0625\n",
      "  d: 0.0500\n",
      "  g: 0.0250\n",
      "  e: 0.0250\n",
      "  t: 0.0500\n",
      "   : 0.1250\n",
      "  l: 0.0250\n",
      "  a: 0.0625\n",
      "  i: 0.0750\n",
      "  r: 0.0750\n",
      "  o: 0.0750\n",
      "  n: 0.0750\n",
      "  w: 0.0125\n",
      "  k: 0.0125\n",
      "  p: 0.0625\n",
      "  c: 0.0375\n",
      "  m: 0.0250\n",
      "  f: 0.0125\n",
      "  s: 0.0875\n",
      "  v: 0.0125\n",
      "\n",
      "TF-IDF Matrix:\n",
      "   although    august      bond    budget    chang  citigroup    climat  \\\n",
      "0  0.000000  0.000000  0.000000  0.000000  0.17344   0.000000  0.000000   \n",
      "1  0.223607  0.223607  0.000000  0.000000  0.00000   0.000000  0.000000   \n",
      "2  0.000000  0.000000  0.240819  0.000000  0.00000   0.240819  0.240819   \n",
      "3  0.000000  0.000000  0.000000  0.301511  0.00000   0.000000  0.000000   \n",
      "\n",
      "    coincid   compani   compass  ...      step   sustain       tax   taxabl  \\\n",
      "0  0.000000  0.000000  0.000000  ...  0.000000  0.000000  0.520319  0.17344   \n",
      "1  0.000000  0.000000  0.000000  ...  0.000000  0.000000  0.000000  0.00000   \n",
      "2  0.240819  0.240819  0.000000  ...  0.240819  0.000000  0.000000  0.00000   \n",
      "3  0.000000  0.000000  0.301511  ...  0.000000  0.301511  0.000000  0.00000   \n",
      "\n",
      "      trade  transact     trust  underwrit     year      york  \n",
      "0  0.000000  0.000000  0.000000   0.000000  0.17344  0.000000  \n",
      "1  0.223607  0.223607  0.000000   0.000000  0.00000  0.000000  \n",
      "2  0.000000  0.000000  0.000000   0.240819  0.00000  0.240819  \n",
      "3  0.000000  0.000000  0.301511   0.000000  0.00000  0.000000  \n",
      "\n",
      "[4 rows x 70 columns]\n"
     ]
    }
   ],
   "source": [
    "# Calculate TF-IDF \n",
    "\n",
    "# Calculate Term Frequency (TF)\n",
    "def calculate_tf(documents):\n",
    "    tf_list = []\n",
    "    for doc in documents:\n",
    "        words = preprocess_text(doc)\n",
    "        word_count = len(words)\n",
    "        tf = defaultdict(int)\n",
    "        \n",
    "        for word in words:\n",
    "            tf[word] += 1\n",
    "        \n",
    "        # Normalize TF\n",
    "        for word in tf:\n",
    "            tf[word] /= word_count\n",
    "            \n",
    "        tf_list.append(tf)\n",
    "    \n",
    "    return tf_list\n",
    "\n",
    "# Calculate TF for each document\n",
    "tf_results = calculate_tf(documents)\n",
    "\n",
    "# Display the Term Frequencies\n",
    "print(\"\\nTerm Frequencies:\")\n",
    "for i, tf in enumerate(tf_results):\n",
    "    print(f\"\\nDocument {i + 1}:\")\n",
    "    for word, frequency in tf.items():\n",
    "        print(f\"  {word}: {frequency:.4f}\")\n",
    "        \n",
    "# Calculate TF-IDF\n",
    "vectorizer = TfidfVectorizer()\n",
    "tfidf_matrix = vectorizer.fit_transform(cleaned_documents)\n",
    "feature_names = vectorizer.get_feature_names_out()\n",
    "tfidf_df = pd.DataFrame(tfidf_matrix.toarray(), columns=feature_names)\n",
    "\n",
    "# Display the TF-IDF Matrix\n",
    "print(\"\\nTF-IDF Matrix:\")\n",
    "print(tfidf_df)\n",
    "# This code prepares a text query, “sustainability and economic development,” for search or analysis by \n",
    "# cleaning it and transforming it into a numerical representation using TF-IDF. After preprocessing the text with preprocess_text,\n",
    "# it is converted into a vector with vectorizer.transform, making it ready for comparison with other text data in the TF-IDF space.\n"
   ]
  },
  {
   "cell_type": "markdown",
   "id": "ceb53afe-f934-4e3c-9e93-573645aacab8",
   "metadata": {},
   "source": [
    "**7- Propose a Query**"
   ]
  },
  {
   "cell_type": "code",
   "execution_count": 16,
   "id": "ac83e441-5980-4900-b5c0-2e1cf9e898c6",
   "metadata": {},
   "outputs": [],
   "source": [
    "query = \"Budget principles for sustainable development Malaysia\" # Proposed query\n",
    "\n",
    "# Preprocess the query\n",
    "cleaned_query = preprocess_text(query)\n",
    "\n",
    "# Transform the query into the TF-IDF space\n",
    "query_vector = vectorizer.transform([cleaned_query])\n",
    "\n",
    "# This code calculates and displays similarity scores to rank documents based on their relevance to a given query.\n",
    "# It first computes the cosine similarity between the query, represented as a TF-IDF vector, and the TF-IDF matrix of all documents,\n",
    "# with higher scores indicating closer matches. Then, it prints each document’s similarity score,\n",
    "# allowing for a ranked list of documents by their relevance to the query.\n",
    "# This approach effectively highlights the most relevant documents for the given query."
   ]
  },
  {
   "cell_type": "markdown",
   "id": "a763c9f6-e838-4366-8c69-6d46090e9980",
   "metadata": {},
   "source": [
    "**8- Ranking Using Cosine Similarity**"
   ]
  },
  {
   "cell_type": "code",
   "execution_count": 17,
   "id": "1ab82ae5-5129-400a-a65f-036c94046c49",
   "metadata": {},
   "outputs": [
    {
     "name": "stdout",
     "output_type": "stream",
     "text": [
      "\n",
      "Similarity Scores:\n",
      "Document 1: 0.0501\n",
      "Document 2: 0.1040\n",
      "Document 3: 0.0696\n",
      "Document 4: 0.4208\n"
     ]
    }
   ],
   "source": [
    "similarity_scores = cosine_similarity(query_vector, tfidf_matrix)\n",
    "\n",
    "# Display the similarity scores\n",
    "print(\"\\nSimilarity Scores:\")\n",
    "for i, score in enumerate(similarity_scores[0]):\n",
    "    print(f\"Document {i + 1}: {score:.4f}\")\n",
    "    \n",
    "# We proposed a query, transformed it into the TF-IDF space, and calculated cosine similarity scores \n",
    "# to rank the documents based on their relevance to the query."
   ]
  },
  {
   "cell_type": "markdown",
   "id": "97ca6817-9639-4cf2-9ded-d107d16fb416",
   "metadata": {},
   "source": [
    "**9- Conculsion**"
   ]
  },
  {
   "cell_type": "raw",
   "id": "ce7eae4c-1125-42d6-8eb6-9140edabc682",
   "metadata": {},
   "source": [
    "We proposed the query \"Budget principles for sustainable development Malaysia,\" which was preprocessed and transformed into the TF-IDF space for comparison. By calculating cosine similarity scores between the query vector and the document vectors, we ranked the documents based on their relevance to the query. The resulting scores indicate how closely each document aligns with the themes and concepts embedded in the query.\n",
    "\n",
    "The results highlight the varying degrees of relevance among the documents concerning the query. Document 4 is the most pertinent, making it the best candidate for further exploration related to \"budget principles and sustainable development in Malaysia\". This analysis can guide users in identifying which documents to prioritize for their research or decision-making processes."
   ]
  }
 ],
 "metadata": {
  "kernelspec": {
   "display_name": "Python 3 (ipykernel)",
   "language": "python",
   "name": "python3"
  },
  "language_info": {
   "codemirror_mode": {
    "name": "ipython",
    "version": 3
   },
   "file_extension": ".py",
   "mimetype": "text/x-python",
   "name": "python",
   "nbconvert_exporter": "python",
   "pygments_lexer": "ipython3",
   "version": "3.12.7"
  }
 },
 "nbformat": 4,
 "nbformat_minor": 5
}
